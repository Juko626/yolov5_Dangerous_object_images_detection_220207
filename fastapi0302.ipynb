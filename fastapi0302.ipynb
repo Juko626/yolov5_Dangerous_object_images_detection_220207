{
  "cells": [
    {
      "cell_type": "markdown",
      "metadata": {
        "id": "view-in-github",
        "colab_type": "text"
      },
      "source": [
        "<a href=\"https://colab.research.google.com/github/Juko626/yolov5_Dangerous_object_images_detection_220207/blob/main/fastapi0302.ipynb\" target=\"_parent\"><img src=\"https://colab.research.google.com/assets/colab-badge.svg\" alt=\"Open In Colab\"/></a>"
      ]
    },
    {
      "cell_type": "code",
      "execution_count": 12,
      "metadata": {
        "colab": {
          "base_uri": "https://localhost:8080/"
        },
        "id": "7AvjHKxphRxY",
        "outputId": "dc59441d-4ca6-4b66-ddc1-e46b76c3079d"
      },
      "outputs": [
        {
          "output_type": "stream",
          "name": "stdout",
          "text": [
            "Authtoken saved to configuration file: /root/.ngrok2/ngrok.yml\n",
            "Requirement already satisfied: fastapi in /usr/local/lib/python3.7/dist-packages (0.74.1)\n",
            "Requirement already satisfied: nest-asyncio in /usr/local/lib/python3.7/dist-packages (1.5.4)\n",
            "Requirement already satisfied: pyngrok in /usr/local/lib/python3.7/dist-packages (5.1.0)\n",
            "Requirement already satisfied: uvicorn in /usr/local/lib/python3.7/dist-packages (0.17.5)\n",
            "Requirement already satisfied: starlette==0.17.1 in /usr/local/lib/python3.7/dist-packages (from fastapi) (0.17.1)\n",
            "Requirement already satisfied: pydantic!=1.7,!=1.7.1,!=1.7.2,!=1.7.3,!=1.8,!=1.8.1,<2.0.0,>=1.6.2 in /usr/local/lib/python3.7/dist-packages (from fastapi) (1.9.0)\n",
            "Requirement already satisfied: anyio<4,>=3.0.0 in /usr/local/lib/python3.7/dist-packages (from starlette==0.17.1->fastapi) (3.5.0)\n",
            "Requirement already satisfied: typing-extensions in /usr/local/lib/python3.7/dist-packages (from starlette==0.17.1->fastapi) (3.10.0.2)\n",
            "Requirement already satisfied: idna>=2.8 in /usr/local/lib/python3.7/dist-packages (from anyio<4,>=3.0.0->starlette==0.17.1->fastapi) (2.10)\n",
            "Requirement already satisfied: sniffio>=1.1 in /usr/local/lib/python3.7/dist-packages (from anyio<4,>=3.0.0->starlette==0.17.1->fastapi) (1.2.0)\n",
            "Requirement already satisfied: PyYAML in /usr/local/lib/python3.7/dist-packages (from pyngrok) (3.13)\n",
            "Requirement already satisfied: asgiref>=3.4.0 in /usr/local/lib/python3.7/dist-packages (from uvicorn) (3.5.0)\n",
            "Requirement already satisfied: click>=7.0 in /usr/local/lib/python3.7/dist-packages (from uvicorn) (7.1.2)\n",
            "Requirement already satisfied: h11>=0.8 in /usr/local/lib/python3.7/dist-packages (from uvicorn) (0.13.0)\n",
            "Requirement already satisfied: jinja2 in /usr/local/lib/python3.7/dist-packages (2.11.3)\n",
            "Requirement already satisfied: MarkupSafe>=0.23 in /usr/local/lib/python3.7/dist-packages (from jinja2) (2.0.1)\n",
            "Requirement already satisfied: aiofiles in /usr/local/lib/python3.7/dist-packages (0.8.0)\n",
            "Requirement already satisfied: python-multipart in /usr/local/lib/python3.7/dist-packages (0.0.5)\n",
            "Requirement already satisfied: six>=1.4.0 in /usr/local/lib/python3.7/dist-packages (from python-multipart) (1.15.0)\n"
          ]
        }
      ],
      "source": [
        "!pip install FastAPI -q\n",
        "!pip install uvicorn -q\n",
        "!ngrok authtoken 25pPqKknRrUN6jUUUlyudBhs8Fo_4kXg9PQiiKho1APSEeF6X\n",
        "!pip install fastapi nest-asyncio pyngrok uvicorn\n",
        "!pip install jinja2\n",
        "!pip install aiofiles\n",
        "!pip install python-multipart"
      ]
    },
    {
      "cell_type": "code",
      "source": [
        "from typing import Optional\n",
        "\n",
        "from fastapi import FastAPI\n",
        "from typing import Optional\n",
        "from fastapi import FastAPI\n",
        "from fastapi import FastAPI, File, UploadFile, Request, Form, File, UploadFile\n",
        "from fastapi import FastAPI, status\n",
        "from fastapi.responses import HTMLResponse\n",
        "from typing import List\n",
        "import os\n",
        "import uvicorn\n",
        "from fastapi import APIRouter\n",
        "from fastapi.staticfiles import StaticFiles\n",
        "import nest_asyncio\n",
        "from pyngrok import ngrok\n",
        "from fastapi.templating import Jinja2Templates\n",
        "from PIL import Image\n",
        "from io import BytesIO\n",
        "import torch\n",
        "import shutil\n",
        "app = FastAPI()\n",
        "\n",
        "\n",
        "@app.get(\"/\")\n",
        "def read_root():\n",
        "    return {\"Hello\": \"World\"}\n",
        "\n",
        "\n",
        "@app.get(\"/items/{item_id}\")\n",
        "def read_item(item_id: int, q: Optional[str] = None):\n",
        "    return {\"item_id\": item_id, \"q\": q}"
      ],
      "metadata": {
        "id": "Px-vFvdyaXrN"
      },
      "execution_count": 13,
      "outputs": []
    },
    {
      "cell_type": "code",
      "source": [
        "#새로 만든거 위에 완료\n",
        "from typing import List\n",
        "\n",
        "from fastapi import FastAPI, File, UploadFile\n",
        "from fastapi.responses import HTMLResponse\n",
        "from fastapi.responses import FileResponse\n",
        "import time\n",
        "from google.colab.patches import cv2_imshow\n",
        "from PIL import Image\n",
        "%cd '/content/ff2'\n",
        "app = FastAPI()\n",
        "\n",
        "\n",
        "\n",
        "#{\"file_name\": file.filename},\n",
        "@app.get(\"/\")\n",
        "async def main():\n",
        "    content = '''\n",
        "\n",
        "\n",
        "\n",
        "<!DOCTYPE html>\n",
        "<html lang=\"en\">\n",
        "<head>\n",
        "    <meta charset=\"UTF-8\">\n",
        "    <meta name=\"viewport\" content=\"width=device-width, initial-scale=1, shrink-to-fit=no\">\n",
        "    <title>Yolo v3 - Detecting Dangerous Object Image, Demo Application</title>\n",
        "    <link rel=\"shortcut icon\" href=\"/static/img/favicon.ico\">\n",
        "    <link type=\"text/css\" rel=\"stylesheet\" href=\"/static/css/bootstrap.css\"/>\n",
        "</head>\n",
        "<script src=\"/static/js/bootstrap.js\" type=\"text/javascript\"></script>\n",
        "<script src=\"https://code.jquery.com/jquery-3.3.1.min.js\" type=\"text/javascript\"></script>\n",
        "<script src=\"/static/js/index.js\"></script>\n",
        "<body>\n",
        "    <nav class=\"mt-2 mb-2\">\n",
        "        <div class=\"container\">\n",
        "            <h2>Yolo v3 - Detecting Dangerous Object Image, Demo Application</h2>\n",
        "        </div>\n",
        "    </nav>\n",
        "    <div class=\"container\">\n",
        "        <!-- Image list -->\n",
        "        <div class=\"row\">\n",
        "            <div class=\"col-md-3\" id=\"sample-img-lists-div-id\">\n",
        "                <div class=\"row mb-2\">\n",
        "                    <select class=\"form-control\" id=\"sample-img-filenames-select-id\" size=\"15\">\n",
        "                        {% for sample_img_filename in sample_img_filename_list %}\n",
        "                            <option value=\"{{ sample_img_filename }}\">{{ sample_img_filename }}</option>\n",
        "                        {% endfor %}\n",
        "                    </select>\n",
        "                </div>\n",
        "                <div class=\"row mb-2 ml-3\">\n",
        "                    <div class=\"col-md-5 ml-3\">\n",
        "                        <button type=\"button\" class=\"btn btn-success\" id=\"view-btn-id\">View</button>\n",
        "                    </div>\n",
        "                    <div class=\"col-md-5\">\n",
        "                        <button type=\"button\" class=\"btn btn-success\" id=\"inference-btn-id\">Inference</button>\n",
        "                    </div>\n",
        "                </div>\n",
        "                <div class=\"row\">\n",
        "                    <textarea class=\"text-left border\" id=\"result-text-id\" readonly=\"readonly\" rows=\"8\">Ready</textarea>\n",
        "                </div>\n",
        "            </div>\n",
        "            <!-- Inference result -->\n",
        "            <div class=\"col-md-9\" id=\"inference-div-id\">\n",
        "                <img class=\"img-responsive img-thumbnail\" id=\"show-img-id\" src=\"\">\n",
        "            </div>\n",
        "        </div>\n",
        "    </div>\n",
        "    <footer class=\"container-fluid navbar-fixed-bottom\">\n",
        "        <div class=\"container\">\n",
        "            <p>Korea University, AI Research Lab</p>\n",
        "        </div>\n",
        "    </footer>\n",
        "</body>\n",
        "</html>\n",
        "\n",
        "\n",
        "'''\n",
        "\n",
        "\n",
        "\n",
        "\n",
        "\n",
        "\n",
        "\n",
        "\n",
        "    return HTMLResponse(content=content)"
      ],
      "metadata": {
        "colab": {
          "base_uri": "https://localhost:8080/"
        },
        "id": "mZhw6esWbgla",
        "outputId": "19a1acc9-dbe7-4117-c1df-ab6b9f8a261d"
      },
      "execution_count": 19,
      "outputs": [
        {
          "output_type": "stream",
          "name": "stdout",
          "text": [
            "[Errno 2] No such file or directory: '/content/ff2'\n",
            "/content\n"
          ]
        }
      ]
    },
    {
      "cell_type": "code",
      "execution_count": null,
      "metadata": {
        "id": "RTtoeqzFiXmy",
        "colab": {
          "base_uri": "https://localhost:8080/"
        },
        "outputId": "a54d5da6-4078-45c1-89e3-a89e4d4df0df"
      },
      "outputs": [
        {
          "output_type": "stream",
          "name": "stdout",
          "text": [
            "Public URL : http://201e-35-227-90-16.ngrok.io\n"
          ]
        },
        {
          "output_type": "stream",
          "name": "stderr",
          "text": [
            "INFO:     Started server process [77]\n",
            "INFO:     Waiting for application startup.\n",
            "INFO:     Application startup complete.\n",
            "INFO:     Uvicorn running on http://0.0.0.0:8000 (Press CTRL+C to quit)\n"
          ]
        },
        {
          "output_type": "stream",
          "name": "stdout",
          "text": [
            "INFO:     14.35.188.63:0 - \"GET / HTTP/1.1\" 200 OK\n",
            "INFO:     14.35.188.63:0 - \"GET /static/css/bootstrap.css HTTP/1.1\" 404 Not Found\n",
            "INFO:     14.35.188.63:0 - \"GET /static/js/bootstrap.js HTTP/1.1\" 404 Not Found\n",
            "INFO:     14.35.188.63:0 - \"GET /static/js/index.js HTTP/1.1\" 404 Not Found\n",
            "INFO:     14.35.188.63:0 - \"GET /static/js/index.js HTTP/1.1\" 404 Not Found\n",
            "INFO:     14.35.188.63:0 - \"GET /static/img/favicon.ico HTTP/1.1\" 404 Not Found\n",
            "INFO:     58.123.220.11:0 - \"GET / HTTP/1.1\" 200 OK\n",
            "INFO:     58.123.220.11:0 - \"GET /static/js/index.js HTTP/1.1\" 404 Not Found\n",
            "INFO:     58.123.220.11:0 - \"GET /static/css/bootstrap.css HTTP/1.1\" 404 Not Found\n",
            "INFO:     58.123.220.11:0 - \"GET /static/js/bootstrap.js HTTP/1.1\" 404 Not Found\n",
            "INFO:     58.123.220.11:0 - \"GET /static/js/index.js HTTP/1.1\" 404 Not Found\n",
            "INFO:     14.35.188.63:0 - \"GET / HTTP/1.1\" 200 OK\n",
            "INFO:     14.35.188.63:0 - \"GET /static/js/bootstrap.js HTTP/1.1\" 404 Not Found\n",
            "INFO:     14.35.188.63:0 - \"GET /static/css/bootstrap.css HTTP/1.1\" 404 Not Found\n",
            "INFO:     14.35.188.63:0 - \"GET /static/js/index.js HTTP/1.1\" 404 Not Found\n"
          ]
        }
      ],
      "source": [
        "ngrok_tunnel = ngrok.connect(8000)\n",
        "print('Public URL :' , ngrok_tunnel.public_url)\n",
        "nest_asyncio.apply()\n",
        "uvicorn.run(app, host='0.0.0.0', port=8000)"
      ]
    }
  ],
  "metadata": {
    "colab": {
      "name": "fastapi0302.ipynb",
      "provenance": [],
      "authorship_tag": "ABX9TyPobbjGvj3ZiWwu/Z8qg5pE",
      "include_colab_link": true
    },
    "kernelspec": {
      "display_name": "Python 3",
      "name": "python3"
    },
    "language_info": {
      "name": "python"
    }
  },
  "nbformat": 4,
  "nbformat_minor": 0
}