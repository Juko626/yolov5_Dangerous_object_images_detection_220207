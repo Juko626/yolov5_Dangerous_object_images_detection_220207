{
  "nbformat": 4,
  "nbformat_minor": 0,
  "metadata": {
    "colab": {
      "name": "roboflow_dangerous_single_other.ipynb",
      "provenance": [],
      "authorship_tag": "ABX9TyPdsmngineAHQ3Ppsjer+i9",
      "include_colab_link": true
    },
    "kernelspec": {
      "name": "python3",
      "display_name": "Python 3"
    },
    "language_info": {
      "name": "python"
    }
  },
  "cells": [
    {
      "cell_type": "markdown",
      "metadata": {
        "id": "view-in-github",
        "colab_type": "text"
      },
      "source": [
        "<a href=\"https://colab.research.google.com/github/Juko626/yolov5_Dangerous_object_images_detection_220207/blob/main/roboflow_dangerous_single_other.ipynb\" target=\"_parent\"><img src=\"https://colab.research.google.com/assets/colab-badge.svg\" alt=\"Open In Colab\"/></a>"
      ]
    },
    {
      "cell_type": "code",
      "execution_count": null,
      "metadata": {
        "id": "AiLdzmnJfyWy"
      },
      "outputs": [],
      "source": [
        "#jupyter version\n",
        "!pip install roboflow\n",
        "\n",
        "from roboflow import Roboflow\n",
        "rf = Roboflow(api_key=\"eNq4QqTEuQFz8Rx3jh7x\")\n",
        "project = rf.workspace(\"kojunsu-blxt9\").project(\"dangerous_images\")\n",
        "dataset = project.version(1).download(\"yolov5\")\n",
        "\n",
        "\n",
        "\n",
        "#terminal version\n",
        "curl -L \"https://app.roboflow.com/ds/hvCVJCrdoi?key=ZWs4Ux7Jj7\" > roboflow.zip; unzip roboflow.zip; rm roboflow.zip"
      ]
    }
  ]
}